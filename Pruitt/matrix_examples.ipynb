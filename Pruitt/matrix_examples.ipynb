{
 "cells": [
  {
   "cell_type": "markdown",
   "id": "italic-cabinet",
   "metadata": {},
   "source": [
    "# matrix_examples.ipynb : examples of linear algebra"
   ]
  },
  {
   "cell_type": "code",
   "execution_count": 1,
   "id": "sized-faith",
   "metadata": {},
   "outputs": [],
   "source": [
    "from pylab import *\n",
    "# note linear algebra functions below (solve, inv, eig, etc) come from numpy.linalg"
   ]
  },
  {
   "cell_type": "markdown",
   "id": "celtic-minister",
   "metadata": {},
   "source": [
    "solve matrix equation:  \n",
    "$$\\begin{align}\n",
    "x + y + z = -1 \\\\  \n",
    "x - 2y - z = -2 \\\\\n",
    "x + 3y - 1 = -5\n",
    "\\end{align}$$  \n",
    "$${\\bf A x = b}$$"
   ]
  },
  {
   "cell_type": "code",
   "execution_count": 2,
   "id": "naughty-indonesian",
   "metadata": {},
   "outputs": [
    {
     "name": "stdout",
     "output_type": "stream",
     "text": [
      "x solution =  [-1.8 -0.6  1.4]\n"
     ]
    }
   ],
   "source": [
    "A = array([[1,1,1],\n",
    "           [1,-2,-1],\n",
    "           [1,3,-1]])\n",
    "b = array([-1,-2,-5])\n",
    "x = solve(A,b) \n",
    "print('x solution = ', x)"
   ]
  },
  {
   "cell_type": "code",
   "execution_count": 3,
   "id": "freelance-liability",
   "metadata": {},
   "outputs": [
    {
     "name": "stdout",
     "output_type": "stream",
     "text": [
      "b check =  [-1. -2. -5.]  should be =  [-1 -2 -5]\n"
     ]
    }
   ],
   "source": [
    "b_check = A @ x # alternatively dot(A,x)\n",
    "print('b check = ',b_check,' should be = ', b)"
   ]
  },
  {
   "cell_type": "markdown",
   "id": "rapid-notification",
   "metadata": {},
   "source": [
    "more checks, good to machine precision, not exactly zero:"
   ]
  },
  {
   "cell_type": "code",
   "execution_count": 4,
   "id": "cubic-cosmetic",
   "metadata": {},
   "outputs": [
    {
     "name": "stdout",
     "output_type": "stream",
     "text": [
      "check:  [False  True False]\n",
      "check:  [2.22044605e-16 0.00000000e+00 2.22044605e-16]\n"
     ]
    }
   ],
   "source": [
    "print('check: ', A@x == b)\n",
    "print('check: ', A@x / b - 1.0)"
   ]
  },
  {
   "cell_type": "markdown",
   "id": "numerical-awareness",
   "metadata": {},
   "source": [
    "another way to do it:  \n",
    "$${\\bf x = A}^{-1} {\\bf b}$$"
   ]
  },
  {
   "cell_type": "code",
   "execution_count": 5,
   "id": "broadband-stopping",
   "metadata": {},
   "outputs": [
    {
     "name": "stdout",
     "output_type": "stream",
     "text": [
      "x solution = [-1.8 -0.6  1.4]\n",
      "check = [0.00000000e+00 2.22044605e-16 2.22044605e-16]\n"
     ]
    }
   ],
   "source": [
    "x = inv(A) @ b\n",
    "print('x solution =', x)\n",
    "print('check =', A@x / b - 1.0)"
   ]
  },
  {
   "cell_type": "markdown",
   "id": "congressional-officer",
   "metadata": {},
   "source": [
    "singular matrix, recognized by NumPy:"
   ]
  },
  {
   "cell_type": "code",
   "execution_count": 6,
   "id": "apart-division",
   "metadata": {},
   "outputs": [
    {
     "name": "stdout",
     "output_type": "stream",
     "text": [
      "Singular Matrix - no in\n"
     ]
    }
   ],
   "source": [
    "A2 = array([[1,1],\n",
    "           [2,2]])\n",
    "try: \n",
    "    print(inv(A2))\n",
    "except LinAlgError: \n",
    "    print('Singular Matrix - no in')"
   ]
  },
  {
   "cell_type": "markdown",
   "id": "restricted-effect",
   "metadata": {},
   "source": [
    "singular matrix, not recognized by NumPy:"
   ]
  },
  {
   "cell_type": "code",
   "execution_count": 7,
   "id": "fatal-draft",
   "metadata": {},
   "outputs": [
    {
     "ename": "LinAlgError",
     "evalue": "Singular matrix",
     "output_type": "error",
     "traceback": [
      "\u001b[0;31m---------------------------------------------------------------------------\u001b[0m",
      "\u001b[0;31mLinAlgError\u001b[0m                               Traceback (most recent call last)",
      "Cell \u001b[0;32mIn [7], line 4\u001b[0m\n\u001b[1;32m      1\u001b[0m A3 \u001b[38;5;241m=\u001b[39m array([[\u001b[38;5;241m1\u001b[39m,\u001b[38;5;241m2\u001b[39m,\u001b[38;5;241m3\u001b[39m],\n\u001b[1;32m      2\u001b[0m            [\u001b[38;5;241m4\u001b[39m,\u001b[38;5;241m5\u001b[39m,\u001b[38;5;241m6\u001b[39m],\n\u001b[1;32m      3\u001b[0m            [\u001b[38;5;241m7\u001b[39m,\u001b[38;5;241m8\u001b[39m,\u001b[38;5;241m9\u001b[39m]])\n\u001b[0;32m----> 4\u001b[0m \u001b[38;5;28mprint\u001b[39m(\u001b[43minv\u001b[49m\u001b[43m(\u001b[49m\u001b[43mA3\u001b[49m\u001b[43m)\u001b[49m)\n",
      "File \u001b[0;32m<__array_function__ internals>:180\u001b[0m, in \u001b[0;36minv\u001b[0;34m(*args, **kwargs)\u001b[0m\n",
      "File \u001b[0;32m~/.local/lib/python3.8/site-packages/numpy/linalg/linalg.py:552\u001b[0m, in \u001b[0;36minv\u001b[0;34m(a)\u001b[0m\n\u001b[1;32m    550\u001b[0m signature \u001b[38;5;241m=\u001b[39m \u001b[38;5;124m'\u001b[39m\u001b[38;5;124mD->D\u001b[39m\u001b[38;5;124m'\u001b[39m \u001b[38;5;28;01mif\u001b[39;00m isComplexType(t) \u001b[38;5;28;01melse\u001b[39;00m \u001b[38;5;124m'\u001b[39m\u001b[38;5;124md->d\u001b[39m\u001b[38;5;124m'\u001b[39m\n\u001b[1;32m    551\u001b[0m extobj \u001b[38;5;241m=\u001b[39m get_linalg_error_extobj(_raise_linalgerror_singular)\n\u001b[0;32m--> 552\u001b[0m ainv \u001b[38;5;241m=\u001b[39m \u001b[43m_umath_linalg\u001b[49m\u001b[38;5;241;43m.\u001b[39;49m\u001b[43minv\u001b[49m\u001b[43m(\u001b[49m\u001b[43ma\u001b[49m\u001b[43m,\u001b[49m\u001b[43m \u001b[49m\u001b[43msignature\u001b[49m\u001b[38;5;241;43m=\u001b[39;49m\u001b[43msignature\u001b[49m\u001b[43m,\u001b[49m\u001b[43m \u001b[49m\u001b[43mextobj\u001b[49m\u001b[38;5;241;43m=\u001b[39;49m\u001b[43mextobj\u001b[49m\u001b[43m)\u001b[49m\n\u001b[1;32m    553\u001b[0m \u001b[38;5;28;01mreturn\u001b[39;00m wrap(ainv\u001b[38;5;241m.\u001b[39mastype(result_t, copy\u001b[38;5;241m=\u001b[39m\u001b[38;5;28;01mFalse\u001b[39;00m))\n",
      "File \u001b[0;32m~/.local/lib/python3.8/site-packages/numpy/linalg/linalg.py:89\u001b[0m, in \u001b[0;36m_raise_linalgerror_singular\u001b[0;34m(err, flag)\u001b[0m\n\u001b[1;32m     88\u001b[0m \u001b[38;5;28;01mdef\u001b[39;00m \u001b[38;5;21m_raise_linalgerror_singular\u001b[39m(err, flag):\n\u001b[0;32m---> 89\u001b[0m     \u001b[38;5;28;01mraise\u001b[39;00m LinAlgError(\u001b[38;5;124m\"\u001b[39m\u001b[38;5;124mSingular matrix\u001b[39m\u001b[38;5;124m\"\u001b[39m)\n",
      "\u001b[0;31mLinAlgError\u001b[0m: Singular matrix"
     ]
    }
   ],
   "source": [
    "A3 = array([[1,2,3],\n",
    "           [4,5,6],\n",
    "           [7,8,9]])\n",
    "print(inv(A3))"
   ]
  },
  {
   "cell_type": "markdown",
   "id": "every-lecture",
   "metadata": {},
   "source": [
    "check for identity matrix:  \n",
    "$${\\bf A}^{-1} {\\bf A} = {\\bf I}$$ ?"
   ]
  },
  {
   "cell_type": "code",
   "execution_count": 8,
   "id": "cutting-ratio",
   "metadata": {},
   "outputs": [
    {
     "ename": "LinAlgError",
     "evalue": "Singular matrix",
     "output_type": "error",
     "traceback": [
      "\u001b[0;31m---------------------------------------------------------------------------\u001b[0m",
      "\u001b[0;31mLinAlgError\u001b[0m                               Traceback (most recent call last)",
      "Cell \u001b[0;32mIn [8], line 1\u001b[0m\n\u001b[0;32m----> 1\u001b[0m \u001b[38;5;28mprint\u001b[39m(\u001b[43minv\u001b[49m\u001b[43m(\u001b[49m\u001b[43mA3\u001b[49m\u001b[43m)\u001b[49m \u001b[38;5;241m@\u001b[39m A3)\n",
      "File \u001b[0;32m<__array_function__ internals>:180\u001b[0m, in \u001b[0;36minv\u001b[0;34m(*args, **kwargs)\u001b[0m\n",
      "File \u001b[0;32m~/.local/lib/python3.8/site-packages/numpy/linalg/linalg.py:552\u001b[0m, in \u001b[0;36minv\u001b[0;34m(a)\u001b[0m\n\u001b[1;32m    550\u001b[0m signature \u001b[38;5;241m=\u001b[39m \u001b[38;5;124m'\u001b[39m\u001b[38;5;124mD->D\u001b[39m\u001b[38;5;124m'\u001b[39m \u001b[38;5;28;01mif\u001b[39;00m isComplexType(t) \u001b[38;5;28;01melse\u001b[39;00m \u001b[38;5;124m'\u001b[39m\u001b[38;5;124md->d\u001b[39m\u001b[38;5;124m'\u001b[39m\n\u001b[1;32m    551\u001b[0m extobj \u001b[38;5;241m=\u001b[39m get_linalg_error_extobj(_raise_linalgerror_singular)\n\u001b[0;32m--> 552\u001b[0m ainv \u001b[38;5;241m=\u001b[39m \u001b[43m_umath_linalg\u001b[49m\u001b[38;5;241;43m.\u001b[39;49m\u001b[43minv\u001b[49m\u001b[43m(\u001b[49m\u001b[43ma\u001b[49m\u001b[43m,\u001b[49m\u001b[43m \u001b[49m\u001b[43msignature\u001b[49m\u001b[38;5;241;43m=\u001b[39;49m\u001b[43msignature\u001b[49m\u001b[43m,\u001b[49m\u001b[43m \u001b[49m\u001b[43mextobj\u001b[49m\u001b[38;5;241;43m=\u001b[39;49m\u001b[43mextobj\u001b[49m\u001b[43m)\u001b[49m\n\u001b[1;32m    553\u001b[0m \u001b[38;5;28;01mreturn\u001b[39;00m wrap(ainv\u001b[38;5;241m.\u001b[39mastype(result_t, copy\u001b[38;5;241m=\u001b[39m\u001b[38;5;28;01mFalse\u001b[39;00m))\n",
      "File \u001b[0;32m~/.local/lib/python3.8/site-packages/numpy/linalg/linalg.py:89\u001b[0m, in \u001b[0;36m_raise_linalgerror_singular\u001b[0;34m(err, flag)\u001b[0m\n\u001b[1;32m     88\u001b[0m \u001b[38;5;28;01mdef\u001b[39;00m \u001b[38;5;21m_raise_linalgerror_singular\u001b[39m(err, flag):\n\u001b[0;32m---> 89\u001b[0m     \u001b[38;5;28;01mraise\u001b[39;00m LinAlgError(\u001b[38;5;124m\"\u001b[39m\u001b[38;5;124mSingular matrix\u001b[39m\u001b[38;5;124m\"\u001b[39m)\n",
      "\u001b[0;31mLinAlgError\u001b[0m: Singular matrix"
     ]
    }
   ],
   "source": [
    "print(inv(A3) @ A3)"
   ]
  },
  {
   "cell_type": "markdown",
   "id": "twelve-albany",
   "metadata": {},
   "source": [
    "other tests:"
   ]
  },
  {
   "cell_type": "code",
   "execution_count": 9,
   "id": "liquid-heather",
   "metadata": {},
   "outputs": [
    {
     "name": "stdout",
     "output_type": "stream",
     "text": [
      "determinant =  0.0\n",
      "condition number =  3.813147060626918e+16\n"
     ]
    }
   ],
   "source": [
    "print('determinant = ', det(A3))\n",
    "print('condition number = ', cond(A3))"
   ]
  },
  {
   "cell_type": "markdown",
   "id": "precious-mongolia",
   "metadata": {},
   "source": [
    "Moore$-$Penrose pseuo-inverse (generalized inverse, or least-squares best-fit): "
   ]
  },
  {
   "cell_type": "code",
   "execution_count": 10,
   "id": "confused-mustang",
   "metadata": {},
   "outputs": [
    {
     "name": "stdout",
     "output_type": "stream",
     "text": [
      "[[-6.38888889e-01 -1.66666667e-01  3.05555556e-01]\n",
      " [-5.55555556e-02  4.20756436e-17  5.55555556e-02]\n",
      " [ 5.27777778e-01  1.66666667e-01 -1.94444444e-01]]\n",
      "[[ 0.83333333  0.33333333 -0.16666667]\n",
      " [ 0.33333333  0.33333333  0.33333333]\n",
      " [-0.16666667  0.33333333  0.83333333]]\n"
     ]
    }
   ],
   "source": [
    "pinv_A3 = pinv(A3)\n",
    "print(pinv_A3)\n",
    "print(pinv_A3 @ A3)"
   ]
  },
  {
   "cell_type": "markdown",
   "id": "therapeutic-investigation",
   "metadata": {},
   "source": [
    "eigenvalues and eigenvectors :  \n",
    "$$ {\\bf A v} = \\lambda {\\bf v}$$"
   ]
  },
  {
   "cell_type": "code",
   "execution_count": 11,
   "id": "southwest-cooper",
   "metadata": {},
   "outputs": [
    {
     "name": "stdout",
     "output_type": "stream",
     "text": [
      "eigenvalues:  [1.  0.5]\n",
      "eigenvalues:  [1.  0.5]\n",
      "eigenvectors (as *columns*): \n",
      "[[ 0.83205029 -0.70710678]\n",
      " [ 0.5547002   0.70710678]]\n"
     ]
    }
   ],
   "source": [
    "A4 = array([[0.8,0.3],\n",
    "           [0.2,0.7]])\n",
    "lam,v = eig(A4)  # \"lambda\" is reserved word in python, don't use it here\n",
    "print('eigenvalues: ', lam)\n",
    "print('eigenvalues: ', eigvals(A4))\n",
    "print('eigenvectors (as *columns*): ')\n",
    "print(v)"
   ]
  },
  {
   "cell_type": "markdown",
   "id": "positive-synthetic",
   "metadata": {},
   "source": [
    "check:"
   ]
  },
  {
   "cell_type": "code",
   "execution_count": 12,
   "id": "educated-lafayette",
   "metadata": {},
   "outputs": [
    {
     "name": "stdout",
     "output_type": "stream",
     "text": [
      "[[1.11022302e-16 0.00000000e+00]\n",
      " [0.00000000e+00 0.00000000e+00]]\n"
     ]
    }
   ],
   "source": [
    "print(A4@v - lam*v)"
   ]
  },
  {
   "cell_type": "markdown",
   "id": "comparable-candidate",
   "metadata": {},
   "source": [
    "Alternative function for complex Hermitian or real symmetric matrix:"
   ]
  },
  {
   "cell_type": "code",
   "execution_count": 13,
   "id": "demographic-going",
   "metadata": {},
   "outputs": [
    {
     "name": "stdout",
     "output_type": "stream",
     "text": [
      "(array([0.8, 0.7]), array([[1., 0.],\n",
      "       [0., 1.]]))\n",
      "(array([0.7, 0.8]), array([[0., 1.],\n",
      "       [1., 0.]]))\n"
     ]
    }
   ],
   "source": [
    "A5 = array([[0.8,0],\n",
    "            [0,0.7]])\n",
    "print(eig(A5))\n",
    "print(eigh(A5))"
   ]
  },
  {
   "cell_type": "markdown",
   "id": "victorian-uncertainty",
   "metadata": {},
   "source": [
    "circuit example, where the goal is to find the power through resistor #5 for a series of voltages $E_2$:  \n",
    "$${\\bf A i} = {\\bf b}$$"
   ]
  },
  {
   "cell_type": "markdown",
   "id": "right-blast",
   "metadata": {},
   "source": [
    "Solve system of equations for the resistor network in Slides: "
   ]
  },
  {
   "cell_type": "markdown",
   "id": "consistent-provision",
   "metadata": {},
   "source": [
    "Find power through resistor 2 for $E_2 = 23$ V:"
   ]
  },
  {
   "cell_type": "code",
   "execution_count": 14,
   "id": "5afd4c90",
   "metadata": {},
   "outputs": [],
   "source": [
    "R1, R2, R3, R4, R5 = 1.0, 1.0, 2.0, 2.0, 5.0 # set resistances\n",
    "E1, E3 = 2.0, 5.0 # set fixed voltages\n",
    "E2_vec = linspace(0,20,100) # set the range of the variable voltage\n",
    "\n",
    "A_R = array([[1,-1,-1],\n",
    "            [-R1-R2,0,-R3],\n",
    "            [0,-R4-R5,R3]])\n",
    "A_R_inv = inv(A_R) # this is more efficient than repetitively using i = solve(A_R,b)\n",
    "\n",
    "P5 = array([]) # power through resistor 5\n",
    "for E2 in E2_vec :\n",
    "    b_E = array([0,E2-E1,E3-E2])\n",
    "    i = A_R_inv @ b_E\n",
    "    P5 = append(P5,i[1]**2 * R5) # note that i_1,2,3 are i[0,1,2]"
   ]
  },
  {
   "cell_type": "code",
   "execution_count": 15,
   "id": "supreme-yacht",
   "metadata": {},
   "outputs": [
    {
     "data": {
      "image/png": "[encoded data removed]",
      "text/plain": [
       "<Figure size 800x650 with 1 Axes>"
      ]
     },
     "metadata": {},
     "output_type": "display_data"
    }
   ],
   "source": [
    "# Plot results \n",
    "\n",
    "rcParams.update({'font.size': 18})\n",
    "fig1 = figure(figsize=(8,6.5))\n",
    "plot(E2_vec,P5)\n",
    "xlabel('$E_2 \\, [\\mathrm{V}]$')\n",
    "ylabel('$P_5 \\, [\\mathrm{W}]$')\n",
    "grid('on')\n",
    "title('Power through resistor 5')\n",
    "tick_params('both', length=8, width=1.2, which='major') # bigger axis ticks"
   ]
  },
  {
   "attachments": {},
   "cell_type": "markdown",
   "id": "a1bc425d",
   "metadata": {},
   "source": []
  },
  {
   "cell_type": "code",
   "execution_count": null,
   "id": "84dd0365",
   "metadata": {},
   "outputs": [],
   "source": []
  }
 ],
 "metadata": {
  "kernelspec": {
   "display_name": "Python 3 (ipykernel)",
   "language": "python",
   "name": "python3"
  },
  "language_info": {
   "codemirror_mode": {
    "name": "ipython",
    "version": 3
   },
   "file_extension": ".py",
   "mimetype": "text/x-python",
   "name": "python",
   "nbconvert_exporter": "python",
   "pygments_lexer": "ipython3",
   "version": "3.8.10"
  }
 },
 "nbformat": 4,
 "nbformat_minor": 5
}
