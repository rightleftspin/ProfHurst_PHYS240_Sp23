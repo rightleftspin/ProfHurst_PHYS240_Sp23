{
 "cells": [
  {
   "cell_type": "markdown",
   "metadata": {},
   "source": [
    "# In Class Exercise 5: Systems of Linear Equations"
   ]
  },
  {
   "cell_type": "markdown",
   "metadata": {},
   "source": [
    "Robin: Driver -- Jason: Navigator"
   ]
  },
  {
   "cell_type": "markdown",
   "metadata": {},
   "source": [
    "1a) Write the Force equations using matrix equation of the form $ F = \\hat{K}x - b$\n",
    "$\n",
    "F_1 = −k_1(x_1 − L_1) + k_2(x_2 − x_1 −L_2) \\\\\n",
    "F_2 = −k_2(x_2 − x_1 − L_2) + k_3(x_3 − x_2 −L_3)\\\\\n",
    "F_3 = −k_3(x_3 − x_2 − L_3) + k_4(L_w − x_3 −L_4)\\\\\n",
    "$\n",
    "Solving on paper, we get the following for $\\hat{K}$ and $b$:\n",
    "\n",
    "$$\n",
    "\\hat{K}=\n",
    "\\begin{bmatrix}\n",
    "-(k_1+k_2) & k_2 & 0\\\\\n",
    "k_2 & -(k_2+k_3) & k_3\\\\\n",
    "0 & k_3 & -(k_3 + k_4)\n",
    "\\end{bmatrix}\n",
    "\\mbox{ and }\n",
    "b =\n",
    "\\begin{bmatrix}\n",
    "k_1L_1 - k_2L_2 \\\\\n",
    "k_2L_2 - k_3L_3 \\\\\n",
    "k_3L_3 +k_4L_W-k_4L_4\n",
    "\\end{bmatrix}\n",
    "$$"
   ]
  },
  {
   "cell_type": "markdown",
   "metadata": {},
   "source": [
    "2a) Write a program to solve for the rest positions of the masses in equilibrium and the final lengths of the springs"
   ]
  },
  {
   "cell_type": "code",
   "execution_count": 1,
   "metadata": {},
   "outputs": [],
   "source": [
    "import numpy as np\n",
    "import matplotlib.pyplot as plt\n",
    "\n",
    "def ksolver(k, l, l_w):\n",
    "    '''ksolver takes in \n",
    "    k - a vector of size 4, with each index the spring constant of each spring in the system\n",
    "    l - a vector of size 4, with each index the unstretched length of each spring\n",
    "    l_w - the distance of the entire system from wall to wall'''\n",
    "    \n",
    "    # Matrix that maps the spring constants to the x vector in K*x = b eqn\n",
    "    bigK = np.array([\n",
    "        [-(k[0] + k[1]), k[1], 0],\n",
    "        [k[1], -(k[1] + k[2]), k[2]],\n",
    "        [0, k[2], -(k[2] + k[3])]\n",
    "    ])\n",
    "\n",
    "    # matrix b of constants for K*x = b eqn\n",
    "    b = -np.array([\n",
    "         k[0] * l[0] - k[1] * l[1],\n",
    "         k[1] * l[1] - k[2] * l[2],\n",
    "         k[2] * l[2] + k[3] * l_w - k[3] * l[3]\n",
    "    ])\n",
    "\n",
    "    # take the inverse of the matrix K to solve for x\n",
    "    invk = np.linalg.inv(bigK)\n",
    "    \n",
    "    # the x vector of positions\n",
    "    xs = invk @ b\n",
    "\n",
    "    springlengths = np.array([xs[0], xs[1]-xs[0], xs[2]-xs[1], l_w-xs[2]])\n",
    "\n",
    "    return xs, springlengths"
   ]
  },
  {
   "cell_type": "markdown",
   "metadata": {},
   "source": []
  },
  {
   "cell_type": "code",
   "execution_count": 2,
   "metadata": {},
   "outputs": [
    {
     "name": "stdout",
     "output_type": "stream",
     "text": [
      "a) Mass positions - [1. 2. 3.], spring lengths - [1. 1. 1. 1.] \n",
      "b) Mass positions - [3.88 6.32 8.28], spring lengths - [3.88 2.44 1.96 1.72] \n",
      "c) Mass positions - [1.5 3.  3.5], spring lengths - [1.5 1.5 0.5 0.5] \n",
      "d) Mass positions - [2. 4. 5.], spring lengths - [ 2.  2.  1. -1.] \n"
     ]
    }
   ],
   "source": [
    "k_a = np.array([1, 2, 3, 4])\n",
    "k_b = k_a.copy() # copy for supposed runtime performance\n",
    "k_c = np.array([1, 1, 1, 1])\n",
    "k_d = np.array([1, 1, 1, 0])\n",
    "k_e = np.array([0, 1, 1, 0])\n",
    "\n",
    "L_a = k_c.copy()\n",
    "L_b = L_a.copy()\n",
    "L_c = np.array([2, 2, 1, 1])\n",
    "L_d = L_c.copy()\n",
    "L_e = L_c.copy()\n",
    "\n",
    "L_w_a = 4\n",
    "L_w_b = 10\n",
    "L_w_c = L_w_a\n",
    "L_w_d = L_w_a\n",
    "L_w_e = L_w_a\n",
    "\n",
    "xA, lengthsA = ksolver(k_a, L_a, L_w_a)\n",
    "xB, lengthsB = ksolver(k_b, L_b, L_w_b)\n",
    "xC, lengthsC = ksolver(k_c, L_c, L_w_c)\n",
    "xD, lengthsD = ksolver(k_d, L_d, L_w_d)\n",
    "# xE, lengthsE = ksolver(k_e, L_e, L_w_e)\n",
    "\n",
    "print(f'a) Mass positions - {xA}, spring lengths - {lengthsA} ')\n",
    "print(f'b) Mass positions - {xB}, spring lengths - {lengthsB} ')\n",
    "print(f'c) Mass positions - {xC}, spring lengths - {lengthsC} ') \n",
    "print(f'd) Mass positions - {xD}, spring lengths - {lengthsD} ') # note that these answers are physically unreasonable\n",
    "# print(f'e) Mass positions - {xE}, spring lengths - {lengthsE} ') -- part e will not work because the matrix is singular"
   ]
  },
  {
   "cell_type": "markdown",
   "metadata": {},
   "source": [
    "4. Challenge Question:\n",
    "$F_{rw} = −k_4(L_w − x_3 − L_4)$"
   ]
  },
  {
   "cell_type": "code",
   "execution_count": 3,
   "metadata": {},
   "outputs": [
    {
     "data": {
      "image/png": "[encoded data removed]",
      "text/plain": [
       "<Figure size 640x480 with 1 Axes>"
      ]
     },
     "metadata": {},
     "output_type": "display_data"
    }
   ],
   "source": [
    "def ksolverF(k, l, l_w):\n",
    "    '''ksolver takes in \n",
    "    k - a vector of size 4, with each index the spring constant of each spring in the system\n",
    "    l - a vector of size 4, with each index the unstretched length of each spring\n",
    "    l_w - the distance of the entire system from wall to wall'''\n",
    "    \n",
    "    # Matrix that maps the spring constants to the x vector in K*x = b eqn\n",
    "    bigK = np.array([\n",
    "        [-(k[0] + k[1]), k[1], 0],\n",
    "        [k[1], -(k[1] + k[2]), k[2]],\n",
    "        [0, k[2], -(k[2]+k[3])]\n",
    "    ])\n",
    "\n",
    "    # matrix b of constants for K*x = b eqn\n",
    "    b = -np.array([\n",
    "         k[0] * l[0] - k[1] * l[1],\n",
    "         k[1] * l[1] - k[2] * l[2],\n",
    "         k[2] * l[2] + k[3] * l_w - k[3] * l[3]\n",
    "    ])\n",
    "\n",
    "    invk = np.linalg.inv(bigK)\n",
    "    xs = invk @ b\n",
    "\n",
    "    springlengths = np.array([xs[0], xs[1] - xs[0], xs[2] - xs[1], l_w - xs[2]])\n",
    "    \n",
    "    # Expression of Force on the right wall from problem \n",
    "    F_rw = -k[3] * (l_w - xs[2] - l[3])\n",
    "    \n",
    "    # quantities used to verify Law of Equivalent springs\n",
    "    L_0 = np.sum(l)\n",
    "    k_0 = 1/(1/k[0] + 1/k[1] + 1/k[2] + 1/k[3])\n",
    "\n",
    "    # Expresssion of Law of Equivalent springs\n",
    "    F_equiv = -k_0 * (l_w - L_0)\n",
    "\n",
    "    return F_rw, F_equiv\n",
    "\n",
    "# want a function of L_{w}\n",
    "lwsArray = np.arange(1, 10, 0.2)\n",
    "Fs = np.empty(lwsArray.shape)\n",
    "Fq = np.empty(lwsArray.shape)\n",
    "\n",
    "for i, lw in enumerate(lwsArray):\n",
    "    Fs[i], Fq[i]= ksolverF(k_a, L_a, lw)\n",
    "\n",
    "plt.figure()\n",
    "plt.plot(lwsArray, Fs, 'k.', label = 'Right wall force calculated')\n",
    "plt.plot(lwsArray, Fq, 'b-', label = 'Right wall force expected')\n",
    "plt.ylabel('$F_{rw}$')\n",
    "plt.xlabel('$L_{w}$')\n",
    "plt.legend()\n",
    "plt.title('Right wall force as a function of $L_w$')\n",
    "plt.show()\n"
   ]
  },
  {
   "cell_type": "code",
   "execution_count": null,
   "metadata": {},
   "outputs": [],
   "source": []
  }
 ],
 "metadata": {
  "kernelspec": {
   "display_name": "Python 3 (ipykernel)",
   "language": "python",
   "name": "python3"
  },
  "language_info": {
   "codemirror_mode": {
    "name": "ipython",
    "version": 3
   },
   "file_extension": ".py",
   "mimetype": "text/x-python",
   "name": "python",
   "nbconvert_exporter": "python",
   "pygments_lexer": "ipython3",
   "version": "3.8.10"
  }
 },
 "nbformat": 4,
 "nbformat_minor": 1
}
