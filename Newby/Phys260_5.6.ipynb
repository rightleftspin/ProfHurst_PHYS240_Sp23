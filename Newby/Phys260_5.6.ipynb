{
 "cells": [
  {
   "cell_type": "markdown",
   "metadata": {},
   "source": [
    "# Carnot refrigerator\n",
    "\n",
    "Our refrigerator is about 2 m×1 m×1 m, and has insulation about 3 cm thick. The insulation is probably polyurethane, which has a thermal conductivity of about 0.02 W/m K. Assume that the refrigerator interior is at 270 K, and the room is at 300 K.\n",
    "![Fridge](fridge.png)\n",
    "\n",
    "\n",
    "#### a) How many watts of energy leak from our refrigerator through this insulation?"
   ]
  },
  {
   "cell_type": "markdown",
   "metadata": {},
   "source": [
    "Beginning with the equation for heat flow,\n",
    "\n",
    "$$\\dot{q} = - k \\nabla T$$\n",
    "\n",
    "With $\\dot{q}$ being the heat flux (energy per area per unit time) into the fridge, $k$ being the thermal conductivity, and $\\nabla T$ being the gradient of the temperature.\n",
    "\n",
    "We know that the boundaries of the fridge's insulation have outside temperature $T_{env}$ and internal temperature $T_{fridge}$,with their difference being $\\pm \\Delta T$ depending on our choice of unit vector (into or out of the fridge). We can write:\n",
    "\n",
    "$$\\nabla T = \\frac{\\Delta T}{L} $$\n",
    "\n",
    "which is not only true in the coarse sense, but also true throughout the thickness of the wall. The solution to the heat equation in 1D between two temperatures and without any sources is linear between the boundary temperatures. Substituting this in, we get:\n",
    "\n",
    "$$\\dot{q} = -\\frac{k \\Delta T}{L} $$\n",
    "\n",
    "To get the amount of heat transfer per unit time $\\dot{Q}$, we must now multiply $\\dot{q}$, the heat transfer per unit area by the area over which this heat transfer is occurring.\n",
    "\n",
    "$$\\dot{Q} = A \\dot{q} = -\\frac{A k \\Delta T}{L} $$\n",
    "\n",
    "We then decide that we want to measure heat entering the fridge,so we can imagine the environment on the left side of zero, and the fridge on the right side of x=0.  That means we must write $\\Delta T$ to be $T_{fridge} - T_{env}$, so the gradient is negative when tracing a line into the fridge. The overall minus sign from the heat flow equation means that heat should flow in the positive x direction, into the fridge. We also could have fudged it and simply taken the magnitude of heat flow and argued that heat flows to the place with lower temperature.\n"
   ]
  },
  {
   "cell_type": "code",
   "execution_count": 13,
   "metadata": {
    "ExecuteTime": {
     "end_time": "2023-05-13T04:20:52.853291200Z",
     "start_time": "2023-05-13T04:20:52.823292700Z"
    },
    "collapsed": true
   },
   "outputs": [
    {
     "name": "stdout",
     "output_type": "stream",
     "text": [
      "200 Watts entering the fridge.\n"
     ]
    }
   ],
   "source": [
    "A = 4*2*1 + 2*(1*1) #area in meters^2\n",
    "\n",
    "k= 0.02 # thermal conductivity in W/(m K)\n",
    "\n",
    "T_fridge= 270# Kelvin\n",
    "T_env=300 #Kelvin\n",
    "dT= T_fridge-T_env\n",
    "\n",
    "L=0.03 #meters\n",
    "\n",
    "Q_dot=-A*k*dT/L\n",
    "print(f'{Q_dot:.0f} Watts entering the fridge.')"
   ]
  },
  {
   "cell_type": "markdown",
   "metadata": {},
   "source": [
    "Our refrigerator runs at 120 V, and draws a maximum of 4.75 amps. The compressor motor turns on every once in a while for a few minutes.\n",
    "b) Suppose (i) we do not open the refrigerator door, (ii) the thermal losses are dominated by the leakage through the foam and not through the seals around the doors, and (iii) the refrigerator runs as a perfectly efficient Carnot cycle.\n",
    "\n",
    "#### How much power on average will our refrigerator need to operate?"
   ]
  },
  {
   "cell_type": "markdown",
   "metadata": {},
   "source": [
    "We can start by finding the power drained by the refrigerator from the wall socket when it is running. This total energy consumption is equal to\n",
    "$$P_{max} = IV $$\n",
    "This means the total possible power consumption of the fridge is:"
   ]
  },
  {
   "cell_type": "code",
   "execution_count": 14,
   "metadata": {
    "ExecuteTime": {
     "end_time": "2023-05-13T04:20:52.889790600Z",
     "start_time": "2023-05-13T04:20:52.830291500Z"
    }
   },
   "outputs": [
    {
     "name": "stdout",
     "output_type": "stream",
     "text": [
      "570.0 Watts\n"
     ]
    }
   ],
   "source": [
    "I=4.75 #Amps\n",
    "V=120# Volts\n",
    "P_max= I*V #Watts\n",
    "print(f'{P_max} Watts')"
   ]
  },
  {
   "cell_type": "markdown",
   "metadata": {},
   "source": [
    "To find hte energy required to move the 200W of heat from the fridge, we start with Carnot's equation for reversible heat engines:\n",
    "\n",
    "$$\\frac{Q_1}{T_1} = \\frac{Q_2}{T_2}$$\n",
    "\n",
    "We then decide that the left hand side, $T_1, Q_1$ is for the temperature of the environment and the heat flow into it, while the right hand side, $T_2, Q_2$ is for the temperature of -and heat flow $\\textit{out of}$- the inside of the fridge.\n",
    "\n",
    "$$\\frac{Q_{env}}{T_{env}} = \\frac{Q_{fridge}}{T_{fridge}}$$\n",
    "\n",
    "The heat $Q_{env}$ entering the environment will be the sum of the heat leaving the inside of the fridge $Q_{fridge}$ and the heat generated from the power required by the fridge, $P_{req}$\n",
    "\n",
    "$$\\frac{Q_{fridge}+P_{req}}{T_{env}} = \\frac{Q_{fridge}}{T_{fridge}}$$\n",
    "We can rearrange this to get\n",
    "\n",
    "$$Q_{fridge}+P_{req} = Q_{fridge} \\frac{ T_{env}}{T_{fridge}}$$\n",
    "Then subtract $Q_{fridge}$ from both sides to get\n",
    "$$P_{req} = Q_{fridge} (\\frac{ T_{env}}{T_{fridge}}-1)$$\n",
    "\n",
    "We can then plug in the 200 Watts the fridge needs to remove for $Q_{fridge}$, and the fridge and environmental temperatures of 270 and 300 K respectively to find the required power usage."
   ]
  },
  {
   "cell_type": "code",
   "execution_count": 15,
   "metadata": {
    "ExecuteTime": {
     "end_time": "2023-05-13T04:20:52.893790500Z",
     "start_time": "2023-05-13T04:20:52.845290900Z"
    }
   },
   "outputs": [
    {
     "name": "stdout",
     "output_type": "stream",
     "text": [
      "The fridge requires 22.22 Watts to run.\n"
     ]
    }
   ],
   "source": [
    "P_req = (T_env/T_fridge-1)*Q_dot\n",
    "\n",
    "print(f'The fridge requires {P_req:.2f} Watts to run.')"
   ]
  },
  {
   "cell_type": "markdown",
   "metadata": {},
   "source": [
    "This low power requirement is due to the small difference in absolute temperature between the hot and cold regions."
   ]
  },
  {
   "cell_type": "markdown",
   "metadata": {},
   "source": [
    "#### What fraction of the time will the motor run?"
   ]
  },
  {
   "cell_type": "code",
   "execution_count": 16,
   "metadata": {
    "ExecuteTime": {
     "end_time": "2023-05-13T04:20:52.900790600Z",
     "start_time": "2023-05-13T04:20:52.860291600Z"
    }
   },
   "outputs": [
    {
     "name": "stdout",
     "output_type": "stream",
     "text": [
      "The fridge must run 3.90% of the time.\n"
     ]
    }
   ],
   "source": [
    "On_fraction=P_req/P_max\n",
    "on_pct=On_fraction*100\n",
    "\n",
    "print(f'The fridge must run {on_pct:.2f}% of the time.')"
   ]
  },
  {
   "cell_type": "markdown",
   "metadata": {},
   "source": [
    "The low power requirement is much more than fulfilled by the 570W power capability of the refrigerator, so it needs to run intermittently. This is true of real fridges, though they are less efficient than the carnot refrigerator.\n",
    "\n",
    "The Coefficient of Performance of a fridge is defined to be the amount of heat extracted from the fridge, divided by the energy required to extract that heat. We can find this by dividing the heat extracted por unit time by the energy expended per unit time.\n",
    "\n",
    "$$COP_R = \\frac{Q_{fridge}}{P_{req}}$$"
   ]
  },
  {
   "cell_type": "code",
   "execution_count": 17,
   "metadata": {
    "ExecuteTime": {
     "end_time": "2023-05-13T04:20:52.902290300Z",
     "start_time": "2023-05-13T04:20:52.877291100Z"
    }
   },
   "outputs": [
    {
     "name": "stdout",
     "output_type": "stream",
     "text": [
      "COP of our carnot fridge is 9.0.\n"
     ]
    }
   ],
   "source": [
    "COP = Q_dot/P_req\n",
    "print(f'COP of our carnot fridge is {COP:.1f}.')"
   ]
  },
  {
   "cell_type": "markdown",
   "metadata": {},
   "source": [
    "This COP of 9 is quite high, which is to be expected given it is the upper bound for refrigeration performance given the two temperatures $T_{env}$ and $T_{fridge}$, and that the temperature difference is not very  in absolute terms. The COP for the carnot refrigerator can be rewritten using substitution to be:\n",
    "\n",
    "$$COP_R = \\frac{Q_{fridge}}{P_{req}} = \\frac{Q_{fridge}}{Q_{fridge} (\\frac{ T_{env}}{T_{fridge}}-1)} $$\n",
    "\n",
    "$$COP_R = \\frac{1}{(\\frac{ T_{env}}{T_{fridge}}-1)} $$\n",
    "\n",
    "$$COP_R = \\frac{T_{fridge}}{( T_{env} -T_{fridge})} $$\n",
    "\n",
    "This formula works for any carnot fridge."
   ]
  },
  {
   "cell_type": "code",
   "execution_count": 18,
   "metadata": {
    "ExecuteTime": {
     "end_time": "2023-05-13T04:20:52.904790600Z",
     "start_time": "2023-05-13T04:20:52.890791Z"
    }
   },
   "outputs": [
    {
     "name": "stdout",
     "output_type": "stream",
     "text": [
      "COP of our carnot fridge is 9.0.\n"
     ]
    }
   ],
   "source": [
    "COP_carnot_fridge=T_fridge/(T_env-T_fridge)\n",
    "print(f'COP of our carnot fridge is {COP_carnot_fridge:.1f}.')"
   ]
  },
  {
   "cell_type": "markdown",
   "metadata": {},
   "source": [
    "In agreement with our earlier calculation. This formula is great for trying out different fridge and environment temperatures.\n",
    "\n",
    "A typical household fridge has a COP of about 2.5, which means it is much less efficient than the carnot refrigerator, but that is not too surprising given that the carnot fridge is a physical upper bound, rather than the performance of a real machine that cannot run infinitely slowly."
   ]
  }
 ],
 "metadata": {
  "kernelspec": {
   "display_name": "Python 3 (ipykernel)",
   "language": "python",
   "name": "python3"
  },
  "language_info": {
   "codemirror_mode": {
    "name": "ipython",
    "version": 3
   },
   "file_extension": ".py",
   "mimetype": "text/x-python",
   "name": "python",
   "nbconvert_exporter": "python",
   "pygments_lexer": "ipython3",
   "version": "3.10.11"
  }
 },
 "nbformat": 4,
 "nbformat_minor": 1
}
