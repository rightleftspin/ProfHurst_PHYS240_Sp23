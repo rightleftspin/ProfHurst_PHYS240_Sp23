{
 "cells": [
  {
   "cell_type": "markdown",
   "id": "a5b27367",
   "metadata": {},
   "source": [
    "# Asymmetric Quantum Well"
   ]
  },
  {
   "cell_type": "code",
   "execution_count": 1,
   "id": "44def66f",
   "metadata": {},
   "outputs": [
    {
     "name": "stderr",
     "output_type": "stream",
     "text": [
      "/opt/anaconda3/lib/python3.8/site-packages/scipy/__init__.py:143: UserWarning: A NumPy version >=1.19.5 and <1.27.0 is required for this version of SciPy (detected version 1.19.2)\n",
      "  warnings.warn(f\"A NumPy version >={np_minversion} and <{np_maxversion}\"\n"
     ]
    }
   ],
   "source": [
    "from sympy import *\n",
    "from sympy.physics.mechanics import *\n",
    "from sympy import sin, cos\n",
    "import sympy as sp\n",
    "init_printing()\n",
    "\n",
    "import numpy as np\n",
    "import matplotlib.pyplot as plt\n",
    "from matplotlib import style\n",
    "\n",
    "import scipy as spy\n",
    "import scipy.special as special\n",
    "import matplotlib.pyplot as plt\n",
    "from scipy.integrate import quad\n",
    "from scipy.optimize import curve_fit\n",
    "\n",
    "large_width = 180\n",
    "np.set_printoptions(precision=3,linewidth=large_width,suppress=False) \n"
   ]
  },
  {
   "cell_type": "code",
   "execution_count": 2,
   "id": "9b39a066",
   "metadata": {},
   "outputs": [
    {
     "name": "stdout",
     "output_type": "stream",
     "text": [
      "[[ 1.042e-18 -2.886e-19  0.000e+00 -2.309e-20  0.000e+00 -6.361e-21  0.000e+00 -2.618e-21  0.000e+00 -1.325e-21]\n",
      " [-2.886e-19  1.765e-18 -3.117e-19  0.000e+00 -2.945e-20  0.000e+00 -8.979e-21  0.000e+00 -3.943e-21  0.000e+00]\n",
      " [ 0.000e+00 -3.117e-19  2.970e-18 -3.180e-19  0.000e+00 -3.207e-20  0.000e+00 -1.030e-20  0.000e+00 -4.705e-21]\n",
      " [-2.309e-20  0.000e+00 -3.180e-19  4.656e-18 -3.207e-19  0.000e+00 -3.339e-20  0.000e+00 -1.107e-20  0.000e+00]\n",
      " [ 0.000e+00 -2.945e-20  0.000e+00 -3.207e-19  6.825e-18 -3.220e-19  0.000e+00 -3.415e-20  0.000e+00 -1.154e-20]\n",
      " [-6.361e-21  0.000e+00 -3.207e-20  0.000e+00 -3.220e-19  9.475e-18 -3.228e-19  0.000e+00 -3.463e-20  0.000e+00]\n",
      " [ 0.000e+00 -8.979e-21  0.000e+00 -3.339e-20  0.000e+00 -3.228e-19  1.261e-17 -3.232e-19  0.000e+00 -3.495e-20]\n",
      " [-2.618e-21  0.000e+00 -1.030e-20  0.000e+00 -3.415e-20  0.000e+00 -3.232e-19  1.622e-17 -3.236e-19  0.000e+00]\n",
      " [ 0.000e+00 -3.943e-21  0.000e+00 -1.107e-20  0.000e+00 -3.463e-20  0.000e+00 -3.236e-19  2.032e-17 -3.238e-19]\n",
      " [-1.325e-21  0.000e+00 -4.705e-21  0.000e+00 -1.154e-20  0.000e+00 -3.495e-20  0.000e+00 -3.238e-19  2.489e-17]]\n",
      "[[ 1.042e-18 -2.886e-19  0.000e+00 ... -1.380e-24  0.000e+00 -1.299e-24]\n",
      " [-2.886e-19  1.765e-18 -3.117e-19 ...  0.000e+00 -2.679e-24  0.000e+00]\n",
      " [ 0.000e+00 -3.117e-19  2.970e-18 ... -4.147e-24  0.000e+00 -3.903e-24]\n",
      " ...\n",
      " [-1.380e-24  0.000e+00 -4.147e-24 ...  2.315e-15 -3.247e-19  0.000e+00]\n",
      " [ 0.000e+00 -2.679e-24  0.000e+00 ... -3.247e-19  2.362e-15 -3.247e-19]\n",
      " [-1.299e-24  0.000e+00 -3.903e-24 ...  0.000e+00 -3.247e-19  2.410e-15]]\n"
     ]
    }
   ],
   "source": [
    "L,hbar,mass,a,x,m,n = symbols('L,hbar,mass,a,x,m,n', real = True) \n",
    "#Set up params as symbols for differentiation\n",
    "\n",
    "\n",
    "#Use dynamic symbols from sympy to create differential terms\n",
    "y1 = sin(pi*m*x/L)\n",
    "y2 = sin(pi*n*x/L)\n",
    "ddx = diff(y2, x, 2)\n",
    "\n",
    "def Int(L,hbar,mass,pi,m,n,x):\n",
    "    return -hbar**2/(mass*L) * y1*ddx\n",
    "\n",
    "def Int2(L,pi,a,m,n,x):\n",
    "    return (2*a/L**2) * x*y1*y2\n",
    "\n",
    "int1 = sp.integrate(Int(L,hbar,mass,pi,m,n,x),(x,0,L))\n",
    "int2 = sp.integrate(Int2(L,pi,a,m,n,x), (x,0,L))\n",
    "\n",
    "int1 = int1.subs([(sin(n*pi),0), (cos(n*pi),(-1)**n), (sin(m*pi),0), (cos(m*pi),(-1)**m)])\n",
    "int2 = int2.subs([(sin(n*pi),0), (cos(n*pi),(-1)**n), (sin(m*pi),0), (cos(m*pi),(-1)**m)])\n",
    "\n",
    "int1 = sp.lambdify([L,hbar,mass,pi,m,n], int1, \"numpy\")\n",
    "int2 = sp.lambdify([L,pi,a,m,n], int2, \"numpy\")\n",
    "\n",
    "L = 5e-10 #meters or 5 Angstroms\n",
    "hbar = 1.0545e-34 # Joule sec\n",
    "mass = 9.11e-31 # kg\n",
    "pi = pi\n",
    "a = 1.6022e-18 # Joules\n",
    "Nvals = [11,101]\n",
    "Mvals = [11,101]\n",
    "for M in Mvals:\n",
    "    for N in Nvals:\n",
    "        if N != M:\n",
    "            continue\n",
    "        Hml = np.empty((M-1,N-1))\n",
    "        for m in range (1,M):\n",
    "            for n in range(1,N):\n",
    "                if m == n:\n",
    "                    continue\n",
    "                elif m % 2 == 0 and n % 2 == 0:\n",
    "                    continue\n",
    "                elif n % 2 != 0 and m % 2 != 0:\n",
    "                    continue\n",
    "                Hml[m-1,n-1] = int2(L,sp.pi,a,m,n) + int1(L,hbar,mass,sp.pi,m,n)\n",
    "\n",
    "\n",
    "        for m in range (1,M):\n",
    "            for n in range(1,N):\n",
    "                if m != n:\n",
    "                    continue\n",
    "                Hml[m-1,n-1] = int2(L,sp.pi,a,m,n) + int1(L,hbar,mass,sp.pi,m,n)\n",
    "\n",
    "        eps = 1e-100\n",
    "        eps2 = 1e100\n",
    "        Hml[np.abs(Hml) < eps] = 0   \n",
    "        Hml[np.abs(Hml) > eps2] = 0  \n",
    "        if N == M == 11:\n",
    "            Hml_10 = Hml\n",
    "        else:\n",
    "            Hml_100 = Hml\n",
    "print(Hml_10)\n",
    "print(Hml_100)\n",
    "\n",
    "        #Find equations of motion with Euler-Lagrange equations for z and theta coordinates\n",
    "\n",
    "        #print(Integrand)"
   ]
  },
  {
   "cell_type": "code",
   "execution_count": 3,
   "id": "6376f90a",
   "metadata": {},
   "outputs": [
    {
     "name": "stdout",
     "output_type": "stream",
     "text": [
      "[[ 1.042e-18 -2.886e-19  0.000e+00 -2.309e-20  0.000e+00 -6.361e-21  0.000e+00 -2.618e-21  0.000e+00 -1.325e-21]\n",
      " [-2.886e-19  1.765e-18 -3.117e-19  0.000e+00 -2.945e-20  0.000e+00 -8.979e-21  0.000e+00 -3.943e-21  0.000e+00]\n",
      " [ 0.000e+00 -3.117e-19  2.970e-18 -3.180e-19  0.000e+00 -3.207e-20  0.000e+00 -1.030e-20  0.000e+00 -4.705e-21]\n",
      " [-2.309e-20  0.000e+00 -3.180e-19  4.656e-18 -3.207e-19  0.000e+00 -3.339e-20  0.000e+00 -1.107e-20  0.000e+00]\n",
      " [ 0.000e+00 -2.945e-20  0.000e+00 -3.207e-19  6.825e-18 -3.220e-19  0.000e+00 -3.415e-20  0.000e+00 -1.154e-20]\n",
      " [-6.361e-21  0.000e+00 -3.207e-20  0.000e+00 -3.220e-19  9.475e-18 -3.228e-19  0.000e+00 -3.463e-20  0.000e+00]\n",
      " [ 0.000e+00 -8.979e-21  0.000e+00 -3.339e-20  0.000e+00 -3.228e-19  1.261e-17 -3.232e-19  0.000e+00 -3.495e-20]\n",
      " [-2.618e-21  0.000e+00 -1.030e-20  0.000e+00 -3.415e-20  0.000e+00 -3.232e-19  1.622e-17 -3.236e-19  0.000e+00]\n",
      " [ 0.000e+00 -3.943e-21  0.000e+00 -1.107e-20  0.000e+00 -3.463e-20  0.000e+00 -3.236e-19  2.032e-17 -3.238e-19]\n",
      " [-1.325e-21  0.000e+00 -4.705e-21  0.000e+00 -1.154e-20  0.000e+00 -3.495e-20  0.000e+00 -3.238e-19  2.489e-17]]\n",
      "[[ 1.042e-18 -2.886e-19  0.000e+00 ... -1.380e-24  0.000e+00 -1.299e-24]\n",
      " [-2.886e-19  1.765e-18 -3.117e-19 ...  0.000e+00 -2.679e-24  0.000e+00]\n",
      " [ 0.000e+00 -3.117e-19  2.970e-18 ... -4.147e-24  0.000e+00 -3.903e-24]\n",
      " ...\n",
      " [-1.380e-24  0.000e+00 -4.147e-24 ...  2.315e-15 -3.247e-19  0.000e+00]\n",
      " [ 0.000e+00 -2.679e-24  0.000e+00 ... -3.247e-19  2.362e-15 -3.247e-19]\n",
      " [-1.299e-24  0.000e+00 -3.903e-24 ...  0.000e+00 -3.247e-19  2.410e-15]]\n"
     ]
    }
   ],
   "source": [
    "Nvals = [11,101]\n",
    "Mvals = [11,101]\n",
    "for M in Mvals:\n",
    "    for N in Nvals:\n",
    "        if N != M:\n",
    "            continue\n",
    "        H = np.empty((M-1,N-1))\n",
    "\n",
    "        def offdiagonal(a,m,n):\n",
    "            return -8*a*m*n / ((np.pi*(m**2-n**2))**2)\n",
    "\n",
    "        def diagonal(hbar,n,L,mass,a):\n",
    "            return (hbar*n*np.pi/L)**2/(2*mass) + a/2\n",
    "\n",
    "        for m in range (1,M):\n",
    "            for n in range(1,N):\n",
    "                if m == n:\n",
    "                    continue\n",
    "                elif m % 2 == 0 and n % 2 == 0:\n",
    "                    continue\n",
    "                elif n % 2 != 0 and m % 2 != 0:\n",
    "                    continue\n",
    "                H[m-1,n-1] = offdiagonal(a,m,n)\n",
    "\n",
    "        for m in range (1,M):\n",
    "            for n in range(1,N):\n",
    "                if m != n:\n",
    "                    continue\n",
    "                H[m-1,n-1] = diagonal(hbar,n,L,mass,a)\n",
    "        H[np.abs(H) < eps] = 0   \n",
    "        H[np.abs(H) > eps2] = 0  \n",
    "        if N == M == 11:\n",
    "            H_10 = H\n",
    "        else:\n",
    "            H_100 = H\n",
    "print(H_10)\n",
    "print(H_100)"
   ]
  },
  {
   "cell_type": "code",
   "execution_count": 4,
   "id": "e8d30d22",
   "metadata": {},
   "outputs": [
    {
     "name": "stdout",
     "output_type": "stream",
     "text": [
      "[  5.836  11.181  18.662  29.142  42.651  59.179  78.721 101.274 126.837 155.537] eV\n",
      "[  5.836  11.181  18.662  29.142  42.651  59.179  78.721 101.274 126.837 155.537] eV\n"
     ]
    }
   ],
   "source": [
    "#For M = N = 11\n",
    "PythonEigvals = np.linalg.eigvalsh(H_10*6.242e+18)\n",
    "AnalyticEigvals = np.linalg.eigvalsh(Hml_10*6.242e+18)\n",
    "\n",
    "PythonEigvals = np.round(PythonEigvals,3)\n",
    "AnalyticEigvals = np.round(AnalyticEigvals,3)\n",
    "print(PythonEigvals,'eV')\n",
    "print(AnalyticEigvals,'eV')"
   ]
  },
  {
   "cell_type": "code",
   "execution_count": 5,
   "id": "ceaa56b6",
   "metadata": {},
   "outputs": [
    {
     "name": "stdout",
     "output_type": "stream",
     "text": [
      "[  5.836  11.181  18.662  29.142  42.651  59.179  78.721 101.273 126.836 155.407] eV\n",
      "[  5.836  11.181  18.662  29.142  42.651  59.179  78.721 101.273 126.836 155.407] eV\n"
     ]
    }
   ],
   "source": [
    "#M = N = 101\n",
    "Py = np.linalg.eigvalsh(H_100*6.242e+18)\n",
    "Anlyt = np.linalg.eigvalsh(Hml_100*6.242e+18)\n",
    "\n",
    "Py = np.round(Py,6)\n",
    "Anlyt = np.round(Anlyt,6)\n",
    "print(Py[0:10],'eV')\n",
    "print(Anlyt[0:10],'eV')"
   ]
  },
  {
   "cell_type": "code",
   "execution_count": 6,
   "id": "d1a5ea7b",
   "metadata": {},
   "outputs": [
    {
     "name": "stdout",
     "output_type": "stream",
     "text": [
      "                                                                                                                                                                                                                                                                                                                                                                                                                                                                                                                                                                                                                                                                                                                                                                                                                                                                                                                                                                                                                                                                                                                                                                                                                                                                                                                                                                                                                                             [ 4.650e-04 -1.620e-04 -3.010e-04 -3.340e-04 -1.600e-04 -9.600e-05 -4.440e-04 -7.270e-04 -1.229e-03 -1.297e-01]\n",
      "                                                                                                                                                                                                                                                                                                                                                                                                                                                                                                                                                                                                                                                                                                                                                                                                                                                                                                                                                                                                                                                                                                                                                                                                                                                                                                                                                                                                                                             [ 4.650e-04 -1.620e-04 -3.010e-04 -3.340e-04 -1.600e-04 -9.600e-05 -4.440e-04 -7.270e-04 -1.229e-03 -1.297e-01]\n"
     ]
    }
   ],
   "source": [
    "print(np.char.rjust(str(Py[0:10] - PythonEigvals),width = 1500))\n",
    "print(np.char.rjust(str(Anlyt[0:10] - AnalyticEigvals),width = 1500))"
   ]
  },
  {
   "cell_type": "code",
   "execution_count": null,
   "id": "d59b8ead",
   "metadata": {},
   "outputs": [],
   "source": []
  }
 ],
 "metadata": {
  "kernelspec": {
   "display_name": "Python 3",
   "language": "python",
   "name": "python3"
  },
  "language_info": {
   "codemirror_mode": {
    "name": "ipython",
    "version": 3
   },
   "file_extension": ".py",
   "mimetype": "text/x-python",
   "name": "python",
   "nbconvert_exporter": "python",
   "pygments_lexer": "ipython3",
   "version": "3.8.5"
  }
 },
 "nbformat": 4,
 "nbformat_minor": 5
}
