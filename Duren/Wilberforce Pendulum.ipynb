{
 "cells": [
  {
   "cell_type": "markdown",
   "metadata": {},
   "source": [
    "Wilberforce Pendulum"
   ]
  },
  {
   "cell_type": "code",
   "execution_count": null,
   "metadata": {},
   "outputs": [],
   "source": [
    "from sympy import *\n",
    "from sympy.physics.mechanics import *\n",
    "import sympy as sp\n",
    "init_printing(use_unicode=False, wrap_line=False)\n",
    "\n",
    "import numpy as np\n",
    "import matplotlib.pyplot as plt\n",
    "from matplotlib import style"
   ]
  },
  {
   "cell_type": "markdown",
   "metadata": {},
   "source": [
    "**Part (a)** \n",
    "\n",
    "Solve for the equations of motion given the Lagrangian of the system"
   ]
  },
  {
   "cell_type": "code",
   "execution_count": null,
   "metadata": {},
   "outputs": [],
   "source": [
    "m,I,k,delta,epsilon = symbols('m,I,k,delta,epsilon', real = True) #Set up params as symbols for differentiation\n",
    "\n",
    "#Use dynamic symbols from sympy to create differential terms\n",
    "z   = dynamicsymbols('z')\n",
    "zdot  = dynamicsymbols('z',1) #1=first derivative\n",
    "\n",
    "theta = dynamicsymbols('theta')\n",
    "thetadot = dynamicsymbols('theta', 1)\n",
    "\n",
    "#Lagrangian for Wilberforce Pendulum\n",
    "L = 0.5 * ( m*zdot**2 + I*thetadot**2 - k*z**2 - delta*theta**2 - epsilon*z*theta )\n",
    "\n",
    "#Find equations of motion with Euler-Lagrange equations for z and theta coordinates\n",
    "Expr_z = diff(diff(L, zdot), 't') - diff(L, z)\n",
    "Expr_theta = diff(diff(L, thetadot), 't') - diff(L, theta)"
   ]
  },
  {
   "cell_type": "code",
   "execution_count": null,
   "metadata": {},
   "outputs": [],
   "source": [
    "#Left side of Euler-Lagrange equations\n",
    "pprint(Expr_z)\n",
    "pprint(Expr_theta)"
   ]
  },
  {
   "cell_type": "markdown",
   "metadata": {},
   "source": [
    "Transform Euler-Lagrange equations for each coordinate into ready-to-use inputs for rk4"
   ]
  },
  {
   "cell_type": "code",
   "execution_count": null,
   "metadata": {},
   "outputs": [],
   "source": [
    "EL_z = sp.Eq(Expr_z, 0) #Set right side of EL equations equal to 0\n",
    "zdd = sp.solve(EL_z,Derivative('z(t)', '(t,2)')) #Isolates Z double-dot or 2nd derivative of z\n",
    "zdd = zdd[0] #Removes expression from list\n",
    "print(zdd)\n",
    "zdd = sp.lambdify([z,theta,k,m,epsilon],zdd,\"numpy\") #Lambdify changes symbols to python variable inputs"
   ]
  },
  {
   "cell_type": "code",
   "execution_count": null,
   "metadata": {},
   "outputs": [],
   "source": [
    "EL_theta = sp.Eq(Expr_theta, 0)\n",
    "thetadd = sp.solve(EL_theta,Derivative('theta(t)', '(t,2)'))\n",
    "thetadd = thetadd[0]\n",
    "thetadd = sp.lambdify([z,theta,I,delta,epsilon],thetadd,\"numpy\")"
   ]
  },
  {
   "cell_type": "markdown",
   "metadata": {},
   "source": [
    "**Part (b)** \n",
    "\n",
    "Compute z(t) and $\\theta (t)$ using rk4 (runge-kutta 4th order) and create a plot of each variable vs. time. \n",
    "\n",
    "Initial conditions:\n",
    "1. $z(0) = 10 \\ cm$, $\\theta (0) = 0 \\ rad$\n",
    "2. $z(0) = 0 \\ cm$, $\\theta (0) = 2\\pi \\ rad$"
   ]
  },
  {
   "cell_type": "code",
   "execution_count": null,
   "metadata": {},
   "outputs": [],
   "source": [
    "#Tailored version of rk4 for problem\n",
    "def rk4(x,tau,derivs):\n",
    "    \"\"\"\n",
    "    x = state input\n",
    "    tau = time step\n",
    "    derivs = derivs(state) which returns n-array of derivatives from initial n-state vector\n",
    "    \"\"\"\n",
    "    \n",
    "    half_tau = 0.5*tau\n",
    "    k1 = derivs(x)  #If state is sub into x for rk4, this will read derivs(state)\n",
    "    \n",
    "    xtemp = x + half_tau*k1\n",
    "    k2 = derivs(xtemp)  \n",
    "    \n",
    "    xtemp = x + half_tau*k2\n",
    "    k3 = derivs(xtemp)\n",
    "    \n",
    "    xtemp = x + tau*k3\n",
    "    k4 = derivs(xtemp)\n",
    "    \n",
    "    xout = x + tau/6.*(k1 + k4 + 2.*(k2+k3))\n",
    "    return xout"
   ]
  },
  {
   "cell_type": "code",
   "execution_count": null,
   "metadata": {},
   "outputs": [],
   "source": [
    "#Outputs derivative of every index value in state vector\n",
    "def derivs(s):\n",
    "   \n",
    "    #z and theta saved from state vector at current step to sub into equations of motion\n",
    "    z = s[0] \n",
    "    theta = s[1]\n",
    "    \n",
    "    #Saves 1st derivs in state vector\n",
    "    zdot = s[2]\n",
    "    thdot = s[3]\n",
    "    \n",
    "    #Equations of motion, calculates 2nd derivs numerically at each step\n",
    "    dzdt2 = zdd(z,theta,k,m,epsilon)\n",
    "    dthdt2 = thetadd(z,theta,I,delta,epsilon)\n",
    "    \n",
    "    #Returns temporary state vector to be iterated through rk4\n",
    "    derivs = np.array([zdot,thdot,dzdt2,dthdt2])\n",
    "    return derivs"
   ]
  },
  {
   "cell_type": "code",
   "execution_count": null,
   "metadata": {},
   "outputs": [],
   "source": [
    "#Enter initial conditions\n",
    "z0 = eval(input('Initial position in z (cm): '))/100 #converts cm to m\n",
    "theta0 = eval(input('Initial azimuthal angle (rad): '))\n",
    "state = np.array([z0, theta0, 0, 0])  #zeros in place of 1st derivs\n",
    "\n",
    "# Set physical parameters\n",
    "m = 0.5 #kg\n",
    "I = 1e-4 #kgm^2\n",
    "k = 5 #N/m\n",
    "delta = 1e-3 #N*m\n",
    "epsilon = 1e-2 #N\n",
    "\n",
    "#Set time counter, time step, and periods for z and theta\n",
    "time = 0.0 \n",
    "tau = eval(input('Enter time step (s): '))\n",
    "z_T = 2*np.pi*(np.sqrt(m/k)) #period in z\n",
    "theta_T = 2*np.pi*(np.sqrt(I/delta)) #period in theta\n",
    "\n",
    "zwavepacket_T = 14.5*z_T #Only valid with torsional and vertical frequences EQUAL, 14.5 cycles per wavepacket or 'beat'\n",
    "print('Beat Period in z is: ',zwavepacket_T,'seconds')\n",
    "N = int(2*zwavepacket_T/tau) #Steps for 2 periods\n",
    "\n",
    "#Create empty arrays for plotting z,theta,t\n",
    "zplot = np.empty(N)\n",
    "thplot = np.empty(N)\n",
    "tplot = np.empty(N)\n",
    "\n",
    "#Loop through data\n",
    "for i in (range(N)):\n",
    "    \n",
    "    #Saves each iteration\n",
    "    zplot[i] = state[0]  \n",
    "    thplot[i] = state[1]\n",
    "    tplot[i] = time\n",
    "    #Subs state into rk4 to return new state(z,theta,dz_dt,dtheta_dt)\n",
    "    state = rk4(state, tau, derivs)\n",
    "    time += tau\n",
    "\n",
    "#Define vertical and torsional frequencies, remove 1/2pi normalization factor\n",
    "f_z = np.sqrt(k/m)\n",
    "f_theta = np.sqrt(delta/I)\n",
    "\n",
    "if f_z != f_theta:\n",
    "    print('The vertical and torsional frequencies are not equal')\n",
    "else:\n",
    "    print('The difference in frequencies of z and', chr(952),'is: ', abs(f_z-f_theta),'Hz')"
   ]
  },
  {
   "cell_type": "code",
   "execution_count": null,
   "metadata": {},
   "outputs": [],
   "source": [
    "fig = plt.figure(figsize=(10.0, 6.5))\n",
    "ax = fig.add_subplot()\n",
    "ax.plot(tplot,thplot, '+r')\n",
    "ax.plot(tplot,100*zplot,'.m') #convert z to centimeters to scale with theta range\n",
    "ax.set_title(r'Wilberforce Pendulum Oscillations in z and $\\theta$'\n",
    "             '\\n' \n",
    "             r'Initial conditions $z(0) = 10 \\ cm$, $\\theta (0) = 0 \\ rad$, $\\tau = 0.01 \\ s$')\n",
    "ax.grid(True)\n",
    "ax.legend([r'$\\theta (t)$','z(t)'], loc = 'upper right',\n",
    "          frameon=True)\n",
    "plt.xlabel('time [s]')\n",
    "plt.ylabel(r'z [cm] and $\\theta$ [rad]')\n",
    "plt.show()"
   ]
  },
  {
   "cell_type": "code",
   "execution_count": null,
   "metadata": {},
   "outputs": [],
   "source": [
    "fig = plt.figure(figsize=(10.0, 6.5))\n",
    "ax = fig.add_subplot()\n",
    "ax.plot(tplot,thplot, '+r')\n",
    "ax.plot(tplot,100*zplot,'.m') #convert z to centimeters to scale with theta range\n",
    "ax.set_title(r'Wilberforce Pendulum Oscillations in z and $\\theta$'\n",
    "             '\\n' \n",
    "             r'Initial conditions $z(0) = 0 \\ cm$, $\\theta (0) = 2 \\pi \\ rad$, $\\tau = 0.01 \\ s$')\n",
    "ax.grid(True)\n",
    "ax.legend([r'$\\theta (t)$','z(t)'], loc = 'upper right',\n",
    "          frameon=True)\n",
    "plt.xlabel('time [s]')\n",
    "plt.ylabel(r'z [cm] and $\\theta$ [rad]')\n",
    "plt.show()"
   ]
  }
 ],
 "metadata": {
  "kernelspec": {
   "display_name": "Python 3",
   "language": "python",
   "name": "python3"
  },
  "language_info": {
   "codemirror_mode": {
    "name": "ipython",
    "version": 3
   },
   "file_extension": ".py",
   "mimetype": "text/x-python",
   "name": "python",
   "nbconvert_exporter": "python",
   "pygments_lexer": "ipython3",
   "version": "3.8.5"
  }
 },
 "nbformat": 4,
 "nbformat_minor": 4
}
