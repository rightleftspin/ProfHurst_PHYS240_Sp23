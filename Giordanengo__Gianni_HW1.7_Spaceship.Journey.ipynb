{
 "cells": [
  {
   "cell_type": "code",
   "execution_count": 13,
   "id": "516b9888",
   "metadata": {},
   "outputs": [
    {
     "name": "stdout",
     "output_type": "stream",
     "text": [
      "How many light years away is the planet your rocket will visit?\n",
      "10\n",
      "\n",
      " How fast will your rocket travel, as a fraction of c (in the planets' inertial frame)?\n",
      ".99\n",
      "\n",
      "From the Earth's reference frame, it will take  10.1010101010101 years to arrive.\n",
      "From a passenger's reference frame, it will take  1.424922826228878 years to arrive.\n"
     ]
    }
   ],
   "source": [
    "import numpy as np\n",
    "import math\n",
    "\n",
    "print(\"How many light years away is the planet your rocket will visit?\")\n",
    "d = float(input()) #distance without length contraction\n",
    "print(\"\\n How fast will your rocket travel, as a fraction of c (in the planets' inertial frame)?\")\n",
    "v = float(input()) #relativistic velocity\n",
    "\n",
    "gamma = 1/math.sqrt(1-v*v) #relativistic gamma factor\n",
    "t_coord = d/v #coordinate time, measured from the frame of the earth and destination planet\n",
    "t_proper = t_coord/gamma #proper time, measured on the rocket\n",
    "\n",
    "print(\"\\nFrom the Earth's reference frame, it will take \", t_coord, \"years to arrive.\")\n",
    "print(\"From a passenger's reference frame, it will take \", t_proper, \"years to arrive.\")\n"
   ]
  },
  {
   "cell_type": "code",
   "execution_count": null,
   "id": "761e38b6",
   "metadata": {},
   "outputs": [],
   "source": []
  },
  {
   "cell_type": "code",
   "execution_count": null,
   "id": "e56f2fe0",
   "metadata": {},
   "outputs": [],
   "source": []
  }
 ],
 "metadata": {
  "kernelspec": {
   "display_name": "Python 3 (ipykernel)",
   "language": "python",
   "name": "python3"
  },
  "language_info": {
   "codemirror_mode": {
    "name": "ipython",
    "version": 3
   },
   "file_extension": ".py",
   "mimetype": "text/x-python",
   "name": "python",
   "nbconvert_exporter": "python",
   "pygments_lexer": "ipython3",
   "version": "3.9.13"
  }
 },
 "nbformat": 4,
 "nbformat_minor": 5
}
