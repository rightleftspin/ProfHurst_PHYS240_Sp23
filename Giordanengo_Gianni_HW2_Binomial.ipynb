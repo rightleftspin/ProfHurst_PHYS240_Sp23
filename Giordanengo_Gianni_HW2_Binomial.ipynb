{
 "cells": [
  {
   "cell_type": "code",
   "execution_count": 92,
   "id": "2593f018",
   "metadata": {},
   "outputs": [],
   "source": [
    "#problem 7 from homework set 2\n",
    "import math"
   ]
  },
  {
   "cell_type": "code",
   "execution_count": 52,
   "id": "a085185d",
   "metadata": {},
   "outputs": [],
   "source": [
    "#Part a\n",
    "def binomial(n,k):\n",
    "    \n",
    "    Binom_Int = int(math.factorial((n))/math.factorial((k))/math.factorial((n-k)))\n",
    "                    \n",
    "    if k == 0:\n",
    "        Binom_Int = 1\n",
    "        print(Binom_Int, end=\" \") #the end=\" \" helps with the Pascal Triangle formatting\n",
    "                    \n",
    "    else: \n",
    "        print(Binom_Int, end=\" \")"
   ]
  },
  {
   "cell_type": "code",
   "execution_count": 28,
   "id": "33f9866c",
   "metadata": {},
   "outputs": [
    {
     "name": "stdout",
     "output_type": "stream",
     "text": [
      "Enter a positive interger for n: 7\n",
      "Enter a positive interger for k: 3\n",
      "35\n"
     ]
    }
   ],
   "source": [
    "#Part a\n",
    "n_input = int(input(\"Enter a positive interger for n: \"))\n",
    "k_input = int(input(\"Enter a positive interger for k: \"))\n",
    "\n",
    "binomial(n_input,k_input)"
   ]
  },
  {
   "cell_type": "code",
   "execution_count": 29,
   "id": "95da08ad",
   "metadata": {},
   "outputs": [
    {
     "name": "stdout",
     "output_type": "stream",
     "text": [
      "Enter a positive interger for n: 7\n",
      "Enter a positive interger for k: 0\n",
      "1\n"
     ]
    }
   ],
   "source": [
    "#Part a\n",
    "n_input = int(input(\"Enter a positive interger for n: \"))\n",
    "k_input = int(input(\"Enter a positive interger for k: \"))\n",
    "\n",
    "binomial(n_input,k_input)"
   ]
  },
  {
   "cell_type": "code",
   "execution_count": 62,
   "id": "f00cfcb6",
   "metadata": {},
   "outputs": [
    {
     "name": "stdout",
     "output_type": "stream",
     "text": [
      "How many rows of Pascal's Triangle would you like to see?\n",
      "20\n",
      "1 \n",
      "\n",
      "1 1 \n",
      "\n",
      "1 2 1 \n",
      "\n",
      "1 3 3 1 \n",
      "\n",
      "1 4 6 4 1 \n",
      "\n",
      "1 5 10 10 5 1 \n",
      "\n",
      "1 6 15 20 15 6 1 \n",
      "\n",
      "1 7 21 35 35 21 7 1 \n",
      "\n",
      "1 8 28 56 70 56 28 8 1 \n",
      "\n",
      "1 9 36 84 126 126 84 36 9 1 \n",
      "\n",
      "1 10 45 120 210 252 210 120 45 10 1 \n",
      "\n",
      "1 11 55 165 330 462 462 330 165 55 11 1 \n",
      "\n",
      "1 12 66 220 495 792 924 792 495 220 66 12 1 \n",
      "\n",
      "1 13 78 286 715 1287 1716 1716 1287 715 286 78 13 1 \n",
      "\n",
      "1 14 91 364 1001 2002 3003 3432 3003 2002 1001 364 91 14 1 \n",
      "\n",
      "1 15 105 455 1365 3003 5005 6435 6435 5005 3003 1365 455 105 15 1 \n",
      "\n",
      "1 16 120 560 1820 4368 8008 11440 12870 11440 8008 4368 1820 560 120 16 1 \n",
      "\n",
      "1 17 136 680 2380 6188 12376 19448 24310 24310 19448 12376 6188 2380 680 136 17 1 \n",
      "\n",
      "1 18 153 816 3060 8568 18564 31824 43758 48620 43758 31824 18564 8568 3060 816 153 18 1 \n",
      "\n",
      "1 19 171 969 3876 11628 27132 50388 75582 92378 92378 75582 50388 27132 11628 3876 969 171 19 1 \n",
      "\n"
     ]
    }
   ],
   "source": [
    "#Part b\n",
    "row_max = int(input(\"How many rows of Pascal's Triangle would you like to see?\\n\"))\n",
    "for i in range(row_max):\n",
    "    for j in range(i+1):\n",
    "        binomial(i,j)\n",
    "    print(\"\\n\")\n",
    "    "
   ]
  },
  {
   "cell_type": "code",
   "execution_count": 73,
   "id": "6758cb82",
   "metadata": {},
   "outputs": [
    {
     "name": "stdout",
     "output_type": "stream",
     "text": [
      "How many times are you flipping the coin? 100\n",
      "How many heads results do you want? 60\n",
      "The probability of exactly 60 results of heads in  100 coin flips is 0.010843866711637989\n"
     ]
    }
   ],
   "source": [
    "#Part c, part 1: exact number of heads\n",
    "flips = int(input(\"How many times are you flipping the coin? \"))\n",
    "heads = int(input(\"How many heads results do you want? \"))\n",
    "\n",
    "binom = int(math.factorial((flips))/math.factorial((heads))/math.factorial((flips-heads)))\n",
    "prob = binom/(2**flips)\n",
    "\n",
    "print(\"The probability of exactly\",heads,\"results of heads in\",flips,\"coin flips is\",prob)"
   ]
  },
  {
   "cell_type": "code",
   "execution_count": 91,
   "id": "395d0bff",
   "metadata": {},
   "outputs": [
    {
     "name": "stdout",
     "output_type": "stream",
     "text": [
      "How many times are you flipping the coin? 100\n",
      "What is the minimum number of heads results that you want? 60\n",
      "The probability of at least 60 results of heads in 100 coin flips is 0.02844396682049039\n"
     ]
    }
   ],
   "source": [
    "#Part c, part 2: minimum number of heads\n",
    "flips2 = int(input(\"How many times are you flipping the coin? \")) #Prompt number of coin flips\n",
    "heads_input = int(input(\"What is the minimum number of heads results that you want? \")) #prompt minimum numer of heads and store value for final statement\n",
    "heads_i = heads_input #index variable\n",
    "prob_f = 0 #define variable for the final probability\n",
    "\n",
    "while heads_i <= flips2: #I want to add each specific probability until the number of heads = numer of flips\n",
    "    binom_i = int(math.factorial((flips2))/math.factorial((heads_i))/math.factorial((flips2-heads_i))) #calc binom int for specific indexed heads value\n",
    "    prob_i = binom_i/(2**flips2) #calculate probablility using indexed binom int\n",
    "    heads_i += 1 #increase the indexed value of heads\n",
    "    prob_f += prob_i #sum up each calculated probability\n",
    "\n",
    "print(\"The probability of at least\",heads_input,\"results of heads in\",flips2,\"coin flips is\",prob_f)"
   ]
  },
  {
   "cell_type": "code",
   "execution_count": null,
   "id": "e5f72eb8",
   "metadata": {},
   "outputs": [],
   "source": []
  }
 ],
 "metadata": {
  "kernelspec": {
   "display_name": "Python 3 (ipykernel)",
   "language": "python",
   "name": "python3"
  },
  "language_info": {
   "codemirror_mode": {
    "name": "ipython",
    "version": 3
   },
   "file_extension": ".py",
   "mimetype": "text/x-python",
   "name": "python",
   "nbconvert_exporter": "python",
   "pygments_lexer": "ipython3",
   "version": "3.9.13"
  }
 },
 "nbformat": 4,
 "nbformat_minor": 5
}
