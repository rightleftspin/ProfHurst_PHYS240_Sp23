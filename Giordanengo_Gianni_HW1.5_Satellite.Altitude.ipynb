{
 "cells": [
  {
   "cell_type": "code",
   "execution_count": 11,
   "id": "f1f95c01",
   "metadata": {},
   "outputs": [
    {
     "name": "stdout",
     "output_type": "stream",
     "text": [
      "Please enter the desired Orbital Period of your satellite (in seconds):\n",
      "2700\n",
      "The altitude of your satellite is:  -235.1800129088126  kilometers.\n",
      "\n",
      "Oh no! The orbital period you entered is too short; your satelite reached escape velocity!\n"
     ]
    }
   ],
   "source": [
    "import numpy as np\n",
    "\n",
    "print(\"Please enter the desired Orbital Period of your satellite (in seconds):\")\n",
    "T = float(input()) #orbital period\n",
    "\n",
    "G = 6.67e-11       #constants\n",
    "M = 5.97e24        #kg\n",
    "R = 6371000        #m\n",
    "\n",
    "h = ((G*M*T**2/4/np.pi)**(1/3)-R)/1000 #height formula with unit conversion m->km\n",
    "\n",
    "print(\"The altitude of your satellite is: \", h, \" kilometers.\\n\")\n",
    "if(h<=0):\n",
    "    print(\"Oh no! The orbital period you entered is too short; your satelite reached escape velocity!\")\n"
   ]
  },
  {
   "cell_type": "code",
   "execution_count": null,
   "id": "65ef6689",
   "metadata": {},
   "outputs": [],
   "source": []
  },
  {
   "cell_type": "code",
   "execution_count": null,
   "id": "c45dc47c",
   "metadata": {},
   "outputs": [],
   "source": []
  }
 ],
 "metadata": {
  "kernelspec": {
   "display_name": "Python 3 (ipykernel)",
   "language": "python",
   "name": "python3"
  },
  "language_info": {
   "codemirror_mode": {
    "name": "ipython",
    "version": 3
   },
   "file_extension": ".py",
   "mimetype": "text/x-python",
   "name": "python",
   "nbconvert_exporter": "python",
   "pygments_lexer": "ipython3",
   "version": "3.9.13"
  }
 },
 "nbformat": 4,
 "nbformat_minor": 5
}
